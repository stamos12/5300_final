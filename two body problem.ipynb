{
 "cells": [
  {
   "cell_type": "code",
   "execution_count": 1,
   "metadata": {},
   "outputs": [],
   "source": [
    "import numpy as np\n",
    "import matplotlib.pyplot as plt\n",
    "from scipy.integrate import solve_ivp, odeint"
   ]
  },
  {
   "cell_type": "code",
   "execution_count": 2,
   "metadata": {},
   "outputs": [],
   "source": [
    "# Change the common font size\n",
    "font_size = 14\n",
    "plt.rcParams.update({'font.size': font_size})"
   ]
  },
  {
   "cell_type": "code",
   "execution_count": 3,
   "metadata": {},
   "outputs": [],
   "source": [
    "class twobody():\n",
    "    \n",
    "    \"\"\"\"\n",
    "    two body class that implements parameters using Lagrange equation for two bodies in cartesian\n",
    "    \n",
    "    Parameters:\n",
    "    m1 : mass of first body\n",
    "    m2 : mass of second body\n",
    "    x1: x coordinate of first body\n",
    "    y1: y coordinate of first body\n",
    "    x2: x coordinate of second body\n",
    "    y2: y coordinate of second body\n",
    "    \n",
    "    \"\"\"\n",
    "    \n",
    "    def __init__(self, G, m1, m2):\n",
    "        self.G = G\n",
    "        self.m1 = m1\n",
    "        self.m2 = m2\n",
    "        \n",
    "    def diffr(self, p, q , r, s): #function that returnst the x differnce, p = x1 and q = x2 r = y1 and s = x2\n",
    "        \n",
    "        return(1./np.sqrt((q-p)**2 + (s-r)**2)**3)\n",
    "    \n",
    "    def indpos(self, a, b, c):  #function to get everything independent of position\n",
    "    \n",
    "        return(a * b * c )\n",
    "    \n",
    "    def dy_dt(self, t, y):\n",
    "        \n",
    "        # is the vector that stores x1[0], x2[2], y1[4], y2[6] and \n",
    "        #theirfirst time derivatives x1dot[1] x2dot[3] y1dot[5] y2dot[7]\n",
    "        \n",
    "        return[y[1],self.indpos(self.G, self.m1, self.m2)*self.diffr(y[0], y[2], y[4], y[6])*(y[2]-y[0])/self.m1,\\\n",
    "               y[3],self.indpos(self.G, self.m1, self.m2)*self.diffr(y[0], y[2], y[4], y[6])*(y[0]-y[2])/self.m2,\\\n",
    "               y[5],self.indpos(self.G, self.m1, self.m2)*self.diffr(y[0], y[2], y[4], y[6])*(y[4]-y[6])/self.m1,\\\n",
    "               y[7],self.indpos(self.G, self.m1, self.m2)*self.diffr(y[0], y[2], y[4], y[6])*(y[6]-y[4])/self.m2]\n",
    "        \n",
    "    def solve_ode(self, t_pts, x1_0, x1_dot_0, x2_0, x2_dot_0, y1_0, y1_dot_0, y2_0, y2_dot_0, \n",
    "                  abserr=1.0e-9, relerr=1.0e-9):\n",
    "        \"\"\"\n",
    "        Solve the ODE given initial conditions.\n",
    "        Specify smaller abserr and relerr to get more precision.\n",
    "        \"\"\"\n",
    "        y = [x1_0, x1_dot_0, x2_0, x2_dot_0, y1_0, y1_dot_0, y2_0, y2_dot_0] \n",
    "        solution = solve_ivp(self.dy_dt, (t_pts[0], t_pts[-1]), \n",
    "                             y, t_eval=t_pts, atol=abserr, rtol=relerr)\n",
    "        \n",
    "        x1, x1_dot, x2, x2_dot, y1, y1_dot, y2, y2_dot = solution.y\n",
    "        \n",
    "        return x1, x1_dot, x2, x2_dot, y1, y1_dot, y2, y2_dot"
   ]
  },
  {
   "cell_type": "code",
   "execution_count": 4,
   "metadata": {},
   "outputs": [],
   "source": [
    "def plot_y_vs_x(x, y, axis_labels=None, label=None, title=None, \n",
    "                color=None, linestyle=None, semilogy=False, loglog=False,\n",
    "                ax=None):\n",
    "    \"\"\"\n",
    "    Generic plotting function: return a figure axis with a plot of y vs. x,\n",
    "    with line color and style, title, axis labels, and line label\n",
    "    \"\"\"\n",
    "    if ax is None:        # if the axis object doesn't exist, make one\n",
    "        ax = plt.gca()\n",
    "\n",
    "    if (semilogy):\n",
    "        line, = ax.semilogy(x, y, label=label, \n",
    "                            color=color, linestyle=linestyle)\n",
    "    elif (loglog):\n",
    "        line, = ax.loglog(x, y, label=label, \n",
    "                          color=color, linestyle=linestyle)\n",
    "    else:\n",
    "        line, = ax.plot(x, y, label=label, \n",
    "                    color=color, linestyle=linestyle)\n",
    "\n",
    "    if label is not None:    # if a label if passed, show the legend\n",
    "        ax.legend()\n",
    "    if title is not None:    # set a title if one if passed\n",
    "        ax.set_title(title)\n",
    "    if axis_labels is not None:  # set x-axis and y-axis labels if passed  \n",
    "        ax.set_xlabel(axis_labels[0])\n",
    "        ax.set_ylabel(axis_labels[1])\n",
    "\n",
    "    return ax, line"
   ]
  },
  {
   "cell_type": "code",
   "execution_count": 5,
   "metadata": {},
   "outputs": [],
   "source": [
    "def start_stop_indices(t_pts, plot_start, plot_stop):   \n",
    "    start_index = (np.fabs(t_pts-plot_start)).argmin()  # index in t_pts array \n",
    "    stop_index = (np.fabs(t_pts-plot_stop)).argmin()  # index in t_pts array \n",
    "    return start_index, stop_index"
   ]
  },
  {
   "cell_type": "code",
   "execution_count": 6,
   "metadata": {},
   "outputs": [],
   "source": [
    "# Labels for individual plot axes\n",
    "\n",
    "# Common plotting time (generate the full time then use slices)\n",
    "t_start = 0.\n",
    "t_end = 50.\n",
    "delta_t = 0.001\n",
    "\n",
    "t_pts = np.arange(t_start, t_end+delta_t, delta_t)  \n",
    "\n",
    "m1 = 200.\n",
    "m2 = 1.\n",
    "G = 1.\n",
    "x1_0, x1_dot_0 = 1., -1.\n",
    "y1_0, y1_dot_0 = 1., 1.\n",
    "x2_0, x2_dot_0 = -(m1 / m2) * x1_0, -(m1 / m2) * x1_dot_0\n",
    "y2_0, y2_dot_0 = -(m1 / m2) * y1_0, -(m1 / m2) * y1_dot_0\n",
    "\n",
    "# Instantiate a pendulum \n",
    "p1 = twobody( G= G, m1 = m1, m2 = m2 )"
   ]
  },
  {
   "cell_type": "code",
   "execution_count": 7,
   "metadata": {},
   "outputs": [
    {
     "data": {
      "image/png": "[encoded data removed]",
      "text/plain": [
       "<Figure size 1080x360 with 1 Axes>"
      ]
     },
     "metadata": {
      "needs_background": "light"
     },
     "output_type": "display_data"
    }
   ],
   "source": [
    "x1, x1dot, x2, x2dot, y1, y1dot, y2, y2dot = p1.solve_ode(t_pts, x1_0, x1_dot_0, x2_0, x2_dot_0, \\\n",
    "                                                          y1_0, y1_dot_0, y2_0, y2_dot_0)\n",
    "\n",
    "# start the plot!\n",
    "fig = plt.figure(figsize=(15,5))\n",
    "    \n",
    "# first plot: phi plot \n",
    "ax_a = fig.add_subplot(1,3,1)                  \n",
    "\n",
    "start, stop = start_stop_indices(t_pts, t_start, t_end)    \n",
    "plot_y_vs_x(x1[start:stop], y1[start:stop], \n",
    "            axis_labels=None, \n",
    "            color='blue',\n",
    "            label=None, \n",
    "            title=r'orbit1', \n",
    "            ax=ax_a)    \n",
    "plot_y_vs_x(x2[start:stop], y2[start:stop], \n",
    "            axis_labels=None, \n",
    "            color='red',\n",
    "            label=None, \n",
    "            title=r'orbit2', \n",
    "            ax=ax_a)    \n",
    "\n",
    "fig.tight_layout()"
   ]
  }
 ],
 "metadata": {
  "kernelspec": {
   "display_name": "Python 3",
   "language": "python",
   "name": "python3"
  },
  "language_info": {
   "codemirror_mode": {
    "name": "ipython",
    "version": 3
   },
   "file_extension": ".py",
   "mimetype": "text/x-python",
   "name": "python",
   "nbconvert_exporter": "python",
   "pygments_lexer": "ipython3",
   "version": "3.7.4"
  }
 },
 "nbformat": 4,
 "nbformat_minor": 2
}
