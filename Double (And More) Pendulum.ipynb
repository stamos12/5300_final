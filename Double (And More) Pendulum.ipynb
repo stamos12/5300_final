{
 "cells": [
  {
   "cell_type": "code",
   "execution_count": 1,
   "metadata": {},
   "outputs": [],
   "source": [
    "import numpy as np\n",
    "import matplotlib.pyplot as plt\n",
    "from scipy.integrate import solve_ivp, odeint"
   ]
  },
  {
   "cell_type": "code",
   "execution_count": 2,
   "metadata": {},
   "outputs": [],
   "source": [
    "# Change the common font size\n",
    "font_size = 14\n",
    "plt.rcParams.update({'font.size': font_size})"
   ]
  },
  {
   "cell_type": "code",
   "execution_count": 3,
   "metadata": {},
   "outputs": [],
   "source": [
    "class LagrangianPendulum():\n",
    "    \"\"\"\n",
    "    Pendulum class implements the parameters and Lagrange's equations for \n",
    "     a simple pendulum (no driving or damping).\n",
    "     \n",
    "    Parameters\n",
    "    ----------\n",
    "    L : float\n",
    "        length of the simple pendulum\n",
    "    g : float\n",
    "        gravitational acceleration at the earth's surface\n",
    "    mass : float\n",
    "        mass of pendulum\n",
    "    mass2 : float\n",
    "        mass of second pendulum\n",
    "    L2 : float\n",
    "        length of second part of pendulum\n",
    "    Methods\n",
    "    -------\n",
    "    dy_dt(t, y)\n",
    "        Returns the right side of the differential equation in vector y, \n",
    "        given time t and the corresponding value of y.\n",
    "    \"\"\"\n",
    "    def __init__(self, L=1., L2 = 2., mass=1., mass2 = 1., g=1.):\n",
    "        self.L = L\n",
    "        self.L2 = L2\n",
    "        self.g = g\n",
    "        self.mass = mass\n",
    "        self.mass2 = mass2\n",
    "    \n",
    "    #numerator of the second derivative wrt time of phi1\n",
    "    def num1(self, h, i, j, k): #h is the phi1, i is phi1_dot, j is phi2, and k is phi2_dot\n",
    "        \n",
    "        return(self.g*(2*self.mass+self.mass2)*np.sin(h)+ \\\n",
    "               self.g*self.mass2*np.sin(h-2*j)+ \\\n",
    "               2*self.mass2*(self.L2*k**2 + self.L*i**2*np.cos(h-j))*np.sin(h-j))\n",
    "    \n",
    "    #denominator of the second derivative wrt time of phi1\n",
    "    def den1(self, h, j):  #same h and j as above\n",
    "        \n",
    "        return(1/(2*self.L*(self.mass + self.mass2 * np.sin(h-j)**2)))\n",
    "               \n",
    "    #numerator of the second derivative wrt time of phi2           \n",
    "    def num2(self, h, i, j, k): #same as above\n",
    "               \n",
    "        return(self.L*(self.mass + self.mass2)*i**2)+ (self.g*(self.mass + self.mass2)*np.cos(h))+ \\\n",
    "              (self.L2 * self.mass2*k**2*np.cos(h-j)*np.sin(h-j))\n",
    "    \n",
    "    #denominator of the secon derivative wrt time of phi2\n",
    "    def den2(self, h, j): #same as above\n",
    "        \n",
    "        return(1/(self.L2*(self.mass+self.mass2*np.sin(h-j)**2)))\n",
    "    \n",
    "    #num1 divided by den1\n",
    "    def ratio1(self, h, i, j, k): #same variables as above, ratio of num1 to den1\n",
    "        \n",
    "        return(self.num1(h, i, j, k) *self.den1(h, j))\n",
    "    \n",
    "    #num2 divided by den2\n",
    "    def ratio2(self, h, i, j, k): #same variables as above, ratio fo num2 to den2\n",
    "        \n",
    "        return(self.num2(h, i, j, k) * self.den2(h, j))\n",
    "    \n",
    "    def dy_dt(self, t, y):\n",
    "        \"\"\"\n",
    "        This function returns the right-hand side of the diffeq: \n",
    "        [dphi/dt d^2phi/dt^2 dphi2/dt d^2phi2/dt^2]\n",
    "        \n",
    "        Parameters\n",
    "        ----------\n",
    "        t : float\n",
    "            time \n",
    "        y : float\n",
    "            A 4-component vector with y[0] = phi(t) and y[1] = dphi/dt\n",
    "            y[2] = phi2(t) and y[3] = dphi2/dt\n",
    "            \n",
    "        Returns\n",
    "        -------\n",
    "        \n",
    "        \"\"\"\n",
    "        return [y[1], self.ratio1(y[0], y[1], y[2], y[3]), y[3], self.ratio2(y[0], y[1], y[2], y[3])] \n",
    "        #equation for phidot and phidot2\n",
    "    \n",
    "    def solve_ode(self, t_pts, phi_0, phi_dot_0, phi2_0, phi2_dot_0, \n",
    "                  abserr=1.0e-9, relerr=1.0e-9):\n",
    "        \"\"\"\n",
    "        Solve the ODE given initial conditions.\n",
    "        Specify smaller abserr and relerr to get more precision.\n",
    "        \"\"\"\n",
    "        y = [phi_0, phi_dot_0, phi2_0, phi2_dot_0] \n",
    "        solution = solve_ivp(self.dy_dt, (t_pts[0], t_pts[-1]), \n",
    "                             y, t_eval=t_pts, atol=abserr, rtol=relerr)\n",
    "        \n",
    "        phi, phi_dot, phi2, phi2_dot = solution.y\n",
    "\n",
    "        return phi, phi_dot, phi2, phi2_dot"
   ]
  },
  {
   "cell_type": "code",
   "execution_count": 4,
   "metadata": {},
   "outputs": [],
   "source": [
    "def plot_y_vs_x(x, y, axis_labels=None, label=None, title=None, \n",
    "                color=None, linestyle=None, semilogy=False, loglog=False,\n",
    "                ax=None):\n",
    "    \"\"\"\n",
    "    Generic plotting function: return a figure axis with a plot of y vs. x,\n",
    "    with line color and style, title, axis labels, and line label\n",
    "    \"\"\"\n",
    "    if ax is None:        # if the axis object doesn't exist, make one\n",
    "        ax = plt.gca()\n",
    "\n",
    "    if (semilogy):\n",
    "        line, = ax.semilogy(x, y, label=label, \n",
    "                            color=color, linestyle=linestyle)\n",
    "    elif (loglog):\n",
    "        line, = ax.loglog(x, y, label=label, \n",
    "                          color=color, linestyle=linestyle)\n",
    "    else:\n",
    "        line, = ax.plot(x, y, label=label, \n",
    "                    color=color, linestyle=linestyle)\n",
    "\n",
    "    if label is not None:    # if a label if passed, show the legend\n",
    "        ax.legend()\n",
    "    if title is not None:    # set a title if one if passed\n",
    "        ax.set_title(title)\n",
    "    if axis_labels is not None:  # set x-axis and y-axis labels if passed  \n",
    "        ax.set_xlabel(axis_labels[0])\n",
    "        ax.set_ylabel(axis_labels[1])\n",
    "\n",
    "    return ax, line"
   ]
  },
  {
   "cell_type": "code",
   "execution_count": 5,
   "metadata": {},
   "outputs": [],
   "source": [
    "def start_stop_indices(t_pts, plot_start, plot_stop):   \n",
    "    start_index = (np.fabs(t_pts-plot_start)).argmin()  # index in t_pts array \n",
    "    stop_index = (np.fabs(t_pts-plot_stop)).argmin()  # index in t_pts array \n",
    "    return start_index, stop_index"
   ]
  },
  {
   "cell_type": "code",
   "execution_count": 6,
   "metadata": {},
   "outputs": [],
   "source": [
    "# Labels for individual plot axes\n",
    "\n",
    "# Common plotting time (generate the full time then use slices)\n",
    "t_start = 0.\n",
    "t_end = 50.\n",
    "delta_t = 0.001\n",
    "\n",
    "t_pts = np.arange(t_start, t_end+delta_t, delta_t)  \n",
    "\n",
    "L = 1.\n",
    "g = 1.\n",
    "mass = 1.\n",
    "mass2 = 1.\n",
    "L2 = 1.\n",
    "\n",
    "# Instantiate a pendulum \n",
    "p1 = LagrangianPendulum(L=L, g=g, mass=mass, mass2 = mass2, L2 = L2)\n"
   ]
  },
  {
   "cell_type": "code",
   "execution_count": 7,
   "metadata": {},
   "outputs": [
    {
     "data": {
      "text/plain": [
       "(<matplotlib.axes._subplots.AxesSubplot at 0x2803db78d48>,\n",
       " <matplotlib.lines.Line2D at 0x2803db51308>)"
      ]
     },
     "execution_count": 7,
     "metadata": {},
     "output_type": "execute_result"
    },
    {
     "data": {
      "image/png": "[encoded data removed]",
      "text/plain": [
       "<Figure size 1080x360 with 1 Axes>"
      ]
     },
     "metadata": {
      "needs_background": "light"
     },
     "output_type": "display_data"
    }
   ],
   "source": [
    "# both plots: same initial conditions\n",
    "phi_0 = (0.5)*np.pi\n",
    "phi_dot_0 = 0.\n",
    "phi2_0 = (1.)*np.pi\n",
    "phi_dot2_0 = 0.\n",
    "phi, phi_dot, phi2, phi2_dot = p1.solve_ode(t_pts, phi_0, phi_dot_0, phi2_0, phi_dot2_0)\n",
    "\n",
    "\n",
    "# start the plot!\n",
    "fig = plt.figure(figsize=(15,5))\n",
    "    \n",
    "# first plot: phi plot \n",
    "ax_a = fig.add_subplot(1,3,1)                  \n",
    "\n",
    "start, stop = start_stop_indices(t_pts, t_start, t_end)    \n",
    "plot_y_vs_x(t_pts[start:stop], phi[start:stop], \n",
    "            axis_labels=None, \n",
    "            color='blue',\n",
    "            label=None, \n",
    "            title=r'$\\phi(t)$', \n",
    "            ax=ax_a)    \n",
    "plot_y_vs_x(t_pts[start:stop], phi2[start:stop], \n",
    "            axis_labels=None, \n",
    "            color='red',\n",
    "            label=None, \n",
    "            title=r'$\\phi2(t)$', \n",
    "            ax=ax_a)    \n",
    "\n"
   ]
  },
  {
   "cell_type": "code",
   "execution_count": 8,
   "metadata": {},
   "outputs": [
    {
     "data": {
      "text/plain": [
       "(25496,)"
      ]
     },
     "execution_count": 8,
     "metadata": {},
     "output_type": "execute_result"
    }
   ],
   "source": [
    "phi.shape"
   ]
  },
  {
   "cell_type": "code",
   "execution_count": 9,
   "metadata": {},
   "outputs": [
    {
     "name": "stdout",
     "output_type": "stream",
     "text": [
      "(25497,)\n"
     ]
    }
   ],
   "source": [
    "print(t_pts.shape)"
   ]
  },
  {
   "cell_type": "code",
   "execution_count": null,
   "metadata": {},
   "outputs": [],
   "source": []
  }
 ],
 "metadata": {
  "kernelspec": {
   "display_name": "Python 3",
   "language": "python",
   "name": "python3"
  },
  "language_info": {
   "codemirror_mode": {
    "name": "ipython",
    "version": 3
   },
   "file_extension": ".py",
   "mimetype": "text/x-python",
   "name": "python",
   "nbconvert_exporter": "python",
   "pygments_lexer": "ipython3",
   "version": "3.7.4"
  }
 },
 "nbformat": 4,
 "nbformat_minor": 2
}
